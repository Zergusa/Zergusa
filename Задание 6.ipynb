{
 "cells": [
  {
   "cell_type": "code",
   "execution_count": 1,
   "id": "7abe87df",
   "metadata": {},
   "outputs": [],
   "source": [
    "import pandas as pd\n",
    "df1=pd.read_excel('Новый диплом датасет.xlsx', sheet_name = 0)\n",
    "dfAB=pd.read_excel('Новый диплом датасет.xlsx', sheet_name = 1)\n",
    "dfcity=pd.read_excel('Новый диплом датасет.xlsx', sheet_name = 2)"
   ]
  },
  {
   "cell_type": "code",
   "execution_count": 2,
   "id": "819464f3",
   "metadata": {},
   "outputs": [],
   "source": [
    "#Просматриваем первый датафрейм df1. Определяем, что имеются NaN в id_client"
   ]
  },
  {
   "cell_type": "code",
   "execution_count": 3,
   "id": "31cf0398",
   "metadata": {},
   "outputs": [
    {
     "data": {
      "text/html": [
       "<div>\n",
       "<style scoped>\n",
       "    .dataframe tbody tr th:only-of-type {\n",
       "        vertical-align: middle;\n",
       "    }\n",
       "\n",
       "    .dataframe tbody tr th {\n",
       "        vertical-align: top;\n",
       "    }\n",
       "\n",
       "    .dataframe thead th {\n",
       "        text-align: right;\n",
       "    }\n",
       "</style>\n",
       "<table border=\"1\" class=\"dataframe\">\n",
       "  <thead>\n",
       "    <tr style=\"text-align: right;\">\n",
       "      <th></th>\n",
       "      <th>id_order</th>\n",
       "      <th>id_client</th>\n",
       "      <th>amt_payment</th>\n",
       "      <th>dtime_pay</th>\n",
       "    </tr>\n",
       "  </thead>\n",
       "  <tbody>\n",
       "    <tr>\n",
       "      <th>0</th>\n",
       "      <td>100238</td>\n",
       "      <td>194569.0</td>\n",
       "      <td>5373.0</td>\n",
       "      <td>2022-10-28 04:05:15.221000</td>\n",
       "    </tr>\n",
       "    <tr>\n",
       "      <th>1</th>\n",
       "      <td>100242</td>\n",
       "      <td>191056.0</td>\n",
       "      <td>4151.0</td>\n",
       "      <td>2022-08-01 02:42:54.992000</td>\n",
       "    </tr>\n",
       "    <tr>\n",
       "      <th>2</th>\n",
       "      <td>100249</td>\n",
       "      <td>200049.0</td>\n",
       "      <td>5688.0</td>\n",
       "      <td>2022-08-24 12:45:12.744000</td>\n",
       "    </tr>\n",
       "    <tr>\n",
       "      <th>3</th>\n",
       "      <td>100258</td>\n",
       "      <td>206161.0</td>\n",
       "      <td>4330.0</td>\n",
       "      <td>2022-12-09 15:13:26.437000</td>\n",
       "    </tr>\n",
       "    <tr>\n",
       "      <th>4</th>\n",
       "      <td>100267</td>\n",
       "      <td>190945.0</td>\n",
       "      <td>5488.0</td>\n",
       "      <td>2022-08-03 02:07:31.468000</td>\n",
       "    </tr>\n",
       "    <tr>\n",
       "      <th>...</th>\n",
       "      <td>...</td>\n",
       "      <td>...</td>\n",
       "      <td>...</td>\n",
       "      <td>...</td>\n",
       "    </tr>\n",
       "    <tr>\n",
       "      <th>37984</th>\n",
       "      <td>297586</td>\n",
       "      <td>NaN</td>\n",
       "      <td>NaN</td>\n",
       "      <td>NaN</td>\n",
       "    </tr>\n",
       "    <tr>\n",
       "      <th>37985</th>\n",
       "      <td>297593</td>\n",
       "      <td>179230.0</td>\n",
       "      <td>5755.0</td>\n",
       "      <td>2022-09-05 03:29:07.726000</td>\n",
       "    </tr>\n",
       "    <tr>\n",
       "      <th>37986</th>\n",
       "      <td>297595</td>\n",
       "      <td>192530.0</td>\n",
       "      <td>4448.0</td>\n",
       "      <td>2022-09-27 23:50:05.734000</td>\n",
       "    </tr>\n",
       "    <tr>\n",
       "      <th>37987</th>\n",
       "      <td>297601</td>\n",
       "      <td>183888.0</td>\n",
       "      <td>1746.0</td>\n",
       "      <td>2022-10-13 14:23:03.073000</td>\n",
       "    </tr>\n",
       "    <tr>\n",
       "      <th>37988</th>\n",
       "      <td>297607</td>\n",
       "      <td>182638.0</td>\n",
       "      <td>3604.0</td>\n",
       "      <td>2022-10-13 14:51:59.902000</td>\n",
       "    </tr>\n",
       "  </tbody>\n",
       "</table>\n",
       "<p>37989 rows × 4 columns</p>\n",
       "</div>"
      ],
      "text/plain": [
       "       id_order  id_client  amt_payment                   dtime_pay\n",
       "0        100238   194569.0       5373.0  2022-10-28 04:05:15.221000\n",
       "1        100242   191056.0       4151.0  2022-08-01 02:42:54.992000\n",
       "2        100249   200049.0       5688.0  2022-08-24 12:45:12.744000\n",
       "3        100258   206161.0       4330.0  2022-12-09 15:13:26.437000\n",
       "4        100267   190945.0       5488.0  2022-08-03 02:07:31.468000\n",
       "...         ...        ...          ...                         ...\n",
       "37984    297586        NaN          NaN                         NaN\n",
       "37985    297593   179230.0       5755.0  2022-09-05 03:29:07.726000\n",
       "37986    297595   192530.0       4448.0  2022-09-27 23:50:05.734000\n",
       "37987    297601   183888.0       1746.0  2022-10-13 14:23:03.073000\n",
       "37988    297607   182638.0       3604.0  2022-10-13 14:51:59.902000\n",
       "\n",
       "[37989 rows x 4 columns]"
      ]
     },
     "execution_count": 3,
     "metadata": {},
     "output_type": "execute_result"
    }
   ],
   "source": [
    "df1"
   ]
  },
  {
   "cell_type": "code",
   "execution_count": 4,
   "id": "81cc6666",
   "metadata": {},
   "outputs": [],
   "source": [
    "#убираем строки где не определен id_client"
   ]
  },
  {
   "cell_type": "code",
   "execution_count": 5,
   "id": "5bd9c6cf",
   "metadata": {},
   "outputs": [],
   "source": [
    "df1=df1.dropna(subset=['id_client'])"
   ]
  },
  {
   "cell_type": "code",
   "execution_count": 6,
   "id": "7b61f8bf",
   "metadata": {},
   "outputs": [],
   "source": [
    "#просматриваем dfAB и определяемся,что NaT не сможет повлиять на результаты."
   ]
  },
  {
   "cell_type": "code",
   "execution_count": 7,
   "id": "bc204bbd",
   "metadata": {},
   "outputs": [
    {
     "data": {
      "text/html": [
       "<div>\n",
       "<style scoped>\n",
       "    .dataframe tbody tr th:only-of-type {\n",
       "        vertical-align: middle;\n",
       "    }\n",
       "\n",
       "    .dataframe tbody tr th {\n",
       "        vertical-align: top;\n",
       "    }\n",
       "\n",
       "    .dataframe thead th {\n",
       "        text-align: right;\n",
       "    }\n",
       "</style>\n",
       "<table border=\"1\" class=\"dataframe\">\n",
       "  <thead>\n",
       "    <tr style=\"text-align: right;\">\n",
       "      <th></th>\n",
       "      <th>id_client</th>\n",
       "      <th>dtime_ad</th>\n",
       "      <th>nflag_test</th>\n",
       "      <th>id_trading_point</th>\n",
       "    </tr>\n",
       "  </thead>\n",
       "  <tbody>\n",
       "    <tr>\n",
       "      <th>0</th>\n",
       "      <td>180844</td>\n",
       "      <td>2022-06-08 18:38:41.414</td>\n",
       "      <td>0</td>\n",
       "      <td>212</td>\n",
       "    </tr>\n",
       "    <tr>\n",
       "      <th>1</th>\n",
       "      <td>193942</td>\n",
       "      <td>NaT</td>\n",
       "      <td>0</td>\n",
       "      <td>13</td>\n",
       "    </tr>\n",
       "    <tr>\n",
       "      <th>2</th>\n",
       "      <td>226069</td>\n",
       "      <td>2022-07-11 16:28:38.511</td>\n",
       "      <td>1</td>\n",
       "      <td>54</td>\n",
       "    </tr>\n",
       "    <tr>\n",
       "      <th>3</th>\n",
       "      <td>183981</td>\n",
       "      <td>2022-06-16 12:23:59.289</td>\n",
       "      <td>1</td>\n",
       "      <td>991</td>\n",
       "    </tr>\n",
       "    <tr>\n",
       "      <th>4</th>\n",
       "      <td>322530</td>\n",
       "      <td>2022-07-08 08:56:08.714</td>\n",
       "      <td>0</td>\n",
       "      <td>1015</td>\n",
       "    </tr>\n",
       "    <tr>\n",
       "      <th>...</th>\n",
       "      <td>...</td>\n",
       "      <td>...</td>\n",
       "      <td>...</td>\n",
       "      <td>...</td>\n",
       "    </tr>\n",
       "    <tr>\n",
       "      <th>55600</th>\n",
       "      <td>193038</td>\n",
       "      <td>2022-07-09 00:31:25.196</td>\n",
       "      <td>0</td>\n",
       "      <td>1015</td>\n",
       "    </tr>\n",
       "    <tr>\n",
       "      <th>55601</th>\n",
       "      <td>244069</td>\n",
       "      <td>2022-08-08 00:12:31.319</td>\n",
       "      <td>1</td>\n",
       "      <td>991</td>\n",
       "    </tr>\n",
       "    <tr>\n",
       "      <th>55602</th>\n",
       "      <td>189084</td>\n",
       "      <td>2022-06-29 04:34:42.610</td>\n",
       "      <td>1</td>\n",
       "      <td>439</td>\n",
       "    </tr>\n",
       "    <tr>\n",
       "      <th>55603</th>\n",
       "      <td>182758</td>\n",
       "      <td>2022-06-13 11:28:37.856</td>\n",
       "      <td>1</td>\n",
       "      <td>573</td>\n",
       "    </tr>\n",
       "    <tr>\n",
       "      <th>55604</th>\n",
       "      <td>317377</td>\n",
       "      <td>2022-08-12 15:43:54.538</td>\n",
       "      <td>1</td>\n",
       "      <td>477</td>\n",
       "    </tr>\n",
       "  </tbody>\n",
       "</table>\n",
       "<p>55605 rows × 4 columns</p>\n",
       "</div>"
      ],
      "text/plain": [
       "       id_client                dtime_ad  nflag_test  id_trading_point\n",
       "0         180844 2022-06-08 18:38:41.414           0               212\n",
       "1         193942                     NaT           0                13\n",
       "2         226069 2022-07-11 16:28:38.511           1                54\n",
       "3         183981 2022-06-16 12:23:59.289           1               991\n",
       "4         322530 2022-07-08 08:56:08.714           0              1015\n",
       "...          ...                     ...         ...               ...\n",
       "55600     193038 2022-07-09 00:31:25.196           0              1015\n",
       "55601     244069 2022-08-08 00:12:31.319           1               991\n",
       "55602     189084 2022-06-29 04:34:42.610           1               439\n",
       "55603     182758 2022-06-13 11:28:37.856           1               573\n",
       "55604     317377 2022-08-12 15:43:54.538           1               477\n",
       "\n",
       "[55605 rows x 4 columns]"
      ]
     },
     "execution_count": 7,
     "metadata": {},
     "output_type": "execute_result"
    }
   ],
   "source": [
    "dfAB"
   ]
  },
  {
   "cell_type": "code",
   "execution_count": 8,
   "id": "193b79c6",
   "metadata": {},
   "outputs": [],
   "source": [
    "#просматриваем dfcity и определяемся,что NaT отсутсвтует "
   ]
  },
  {
   "cell_type": "code",
   "execution_count": 9,
   "id": "168a77dc",
   "metadata": {},
   "outputs": [
    {
     "data": {
      "text/html": [
       "<div>\n",
       "<style scoped>\n",
       "    .dataframe tbody tr th:only-of-type {\n",
       "        vertical-align: middle;\n",
       "    }\n",
       "\n",
       "    .dataframe tbody tr th {\n",
       "        vertical-align: top;\n",
       "    }\n",
       "\n",
       "    .dataframe thead th {\n",
       "        text-align: right;\n",
       "    }\n",
       "</style>\n",
       "<table border=\"1\" class=\"dataframe\">\n",
       "  <thead>\n",
       "    <tr style=\"text-align: right;\">\n",
       "      <th></th>\n",
       "      <th>id_trading_point</th>\n",
       "      <th>city</th>\n",
       "    </tr>\n",
       "  </thead>\n",
       "  <tbody>\n",
       "    <tr>\n",
       "      <th>0</th>\n",
       "      <td>1</td>\n",
       "      <td>Петрозаводск</td>\n",
       "    </tr>\n",
       "    <tr>\n",
       "      <th>1</th>\n",
       "      <td>2</td>\n",
       "      <td>Дмитров</td>\n",
       "    </tr>\n",
       "    <tr>\n",
       "      <th>2</th>\n",
       "      <td>4</td>\n",
       "      <td>Чехов</td>\n",
       "    </tr>\n",
       "    <tr>\n",
       "      <th>3</th>\n",
       "      <td>7</td>\n",
       "      <td>Ростов Великий</td>\n",
       "    </tr>\n",
       "    <tr>\n",
       "      <th>4</th>\n",
       "      <td>11</td>\n",
       "      <td>Владимир</td>\n",
       "    </tr>\n",
       "    <tr>\n",
       "      <th>...</th>\n",
       "      <td>...</td>\n",
       "      <td>...</td>\n",
       "    </tr>\n",
       "    <tr>\n",
       "      <th>61</th>\n",
       "      <td>3987</td>\n",
       "      <td>Москва</td>\n",
       "    </tr>\n",
       "    <tr>\n",
       "      <th>62</th>\n",
       "      <td>6543</td>\n",
       "      <td>Москва</td>\n",
       "    </tr>\n",
       "    <tr>\n",
       "      <th>63</th>\n",
       "      <td>8543</td>\n",
       "      <td>Москва</td>\n",
       "    </tr>\n",
       "    <tr>\n",
       "      <th>64</th>\n",
       "      <td>9121</td>\n",
       "      <td>Москва</td>\n",
       "    </tr>\n",
       "    <tr>\n",
       "      <th>65</th>\n",
       "      <td>9931</td>\n",
       "      <td>Москва</td>\n",
       "    </tr>\n",
       "  </tbody>\n",
       "</table>\n",
       "<p>66 rows × 2 columns</p>\n",
       "</div>"
      ],
      "text/plain": [
       "    id_trading_point            city\n",
       "0                  1    Петрозаводск\n",
       "1                  2         Дмитров\n",
       "2                  4           Чехов\n",
       "3                  7  Ростов Великий\n",
       "4                 11        Владимир\n",
       "..               ...             ...\n",
       "61              3987          Москва\n",
       "62              6543          Москва\n",
       "63              8543          Москва\n",
       "64              9121          Москва\n",
       "65              9931          Москва\n",
       "\n",
       "[66 rows x 2 columns]"
      ]
     },
     "execution_count": 9,
     "metadata": {},
     "output_type": "execute_result"
    }
   ],
   "source": [
    "dfcity"
   ]
  },
  {
   "cell_type": "code",
   "execution_count": 10,
   "id": "03eb7b14",
   "metadata": {},
   "outputs": [],
   "source": [
    "#Строим распределение точек по городам"
   ]
  },
  {
   "cell_type": "code",
   "execution_count": 11,
   "id": "50c0aeb3",
   "metadata": {},
   "outputs": [],
   "source": [
    "df_city_tp=dfcity.groupby('city').count()['id_trading_point'].reset_index().sort_values(by=['id_trading_point'], ascending=False)"
   ]
  },
  {
   "cell_type": "code",
   "execution_count": 12,
   "id": "4a562887",
   "metadata": {},
   "outputs": [
    {
     "data": {
      "text/html": [
       "<div>\n",
       "<style scoped>\n",
       "    .dataframe tbody tr th:only-of-type {\n",
       "        vertical-align: middle;\n",
       "    }\n",
       "\n",
       "    .dataframe tbody tr th {\n",
       "        vertical-align: top;\n",
       "    }\n",
       "\n",
       "    .dataframe thead th {\n",
       "        text-align: right;\n",
       "    }\n",
       "</style>\n",
       "<table border=\"1\" class=\"dataframe\">\n",
       "  <thead>\n",
       "    <tr style=\"text-align: right;\">\n",
       "      <th></th>\n",
       "      <th>city</th>\n",
       "      <th>id_trading_point</th>\n",
       "    </tr>\n",
       "  </thead>\n",
       "  <tbody>\n",
       "    <tr>\n",
       "      <th>15</th>\n",
       "      <td>Санкт-Петербург</td>\n",
       "      <td>11</td>\n",
       "    </tr>\n",
       "    <tr>\n",
       "      <th>7</th>\n",
       "      <td>Москва</td>\n",
       "      <td>11</td>\n",
       "    </tr>\n",
       "    <tr>\n",
       "      <th>4</th>\n",
       "      <td>Казань</td>\n",
       "      <td>6</td>\n",
       "    </tr>\n",
       "    <tr>\n",
       "      <th>10</th>\n",
       "      <td>Новосибирск</td>\n",
       "      <td>6</td>\n",
       "    </tr>\n",
       "    <tr>\n",
       "      <th>6</th>\n",
       "      <td>Красноярск</td>\n",
       "      <td>5</td>\n",
       "    </tr>\n",
       "    <tr>\n",
       "      <th>5</th>\n",
       "      <td>Краснодар</td>\n",
       "      <td>4</td>\n",
       "    </tr>\n",
       "    <tr>\n",
       "      <th>14</th>\n",
       "      <td>Самара</td>\n",
       "      <td>4</td>\n",
       "    </tr>\n",
       "    <tr>\n",
       "      <th>8</th>\n",
       "      <td>Мурманск</td>\n",
       "      <td>2</td>\n",
       "    </tr>\n",
       "    <tr>\n",
       "      <th>18</th>\n",
       "      <td>Сочи</td>\n",
       "      <td>2</td>\n",
       "    </tr>\n",
       "    <tr>\n",
       "      <th>16</th>\n",
       "      <td>Саратов</td>\n",
       "      <td>2</td>\n",
       "    </tr>\n",
       "    <tr>\n",
       "      <th>0</th>\n",
       "      <td>Великий Новгород</td>\n",
       "      <td>1</td>\n",
       "    </tr>\n",
       "    <tr>\n",
       "      <th>21</th>\n",
       "      <td>Чехов</td>\n",
       "      <td>1</td>\n",
       "    </tr>\n",
       "    <tr>\n",
       "      <th>20</th>\n",
       "      <td>Тюмень</td>\n",
       "      <td>1</td>\n",
       "    </tr>\n",
       "    <tr>\n",
       "      <th>19</th>\n",
       "      <td>Тольятти</td>\n",
       "      <td>1</td>\n",
       "    </tr>\n",
       "    <tr>\n",
       "      <th>17</th>\n",
       "      <td>Сахалинск</td>\n",
       "      <td>1</td>\n",
       "    </tr>\n",
       "    <tr>\n",
       "      <th>11</th>\n",
       "      <td>Петрозаводск</td>\n",
       "      <td>1</td>\n",
       "    </tr>\n",
       "    <tr>\n",
       "      <th>13</th>\n",
       "      <td>Ростов-на-Дону</td>\n",
       "      <td>1</td>\n",
       "    </tr>\n",
       "    <tr>\n",
       "      <th>12</th>\n",
       "      <td>Ростов Великий</td>\n",
       "      <td>1</td>\n",
       "    </tr>\n",
       "    <tr>\n",
       "      <th>1</th>\n",
       "      <td>Владимир</td>\n",
       "      <td>1</td>\n",
       "    </tr>\n",
       "    <tr>\n",
       "      <th>9</th>\n",
       "      <td>Нижний Новгород</td>\n",
       "      <td>1</td>\n",
       "    </tr>\n",
       "    <tr>\n",
       "      <th>3</th>\n",
       "      <td>Дмитров</td>\n",
       "      <td>1</td>\n",
       "    </tr>\n",
       "    <tr>\n",
       "      <th>2</th>\n",
       "      <td>Волгоград</td>\n",
       "      <td>1</td>\n",
       "    </tr>\n",
       "    <tr>\n",
       "      <th>22</th>\n",
       "      <td>Ярославль</td>\n",
       "      <td>1</td>\n",
       "    </tr>\n",
       "  </tbody>\n",
       "</table>\n",
       "</div>"
      ],
      "text/plain": [
       "                city  id_trading_point\n",
       "15   Санкт-Петербург                11\n",
       "7             Москва                11\n",
       "4             Казань                 6\n",
       "10       Новосибирск                 6\n",
       "6         Красноярск                 5\n",
       "5          Краснодар                 4\n",
       "14            Самара                 4\n",
       "8           Мурманск                 2\n",
       "18              Сочи                 2\n",
       "16           Саратов                 2\n",
       "0   Великий Новгород                 1\n",
       "21             Чехов                 1\n",
       "20            Тюмень                 1\n",
       "19          Тольятти                 1\n",
       "17         Сахалинск                 1\n",
       "11      Петрозаводск                 1\n",
       "13    Ростов-на-Дону                 1\n",
       "12    Ростов Великий                 1\n",
       "1           Владимир                 1\n",
       "9    Нижний Новгород                 1\n",
       "3            Дмитров                 1\n",
       "2          Волгоград                 1\n",
       "22         Ярославль                 1"
      ]
     },
     "execution_count": 12,
     "metadata": {},
     "output_type": "execute_result"
    }
   ],
   "source": [
    "df_city_tp"
   ]
  },
  {
   "cell_type": "code",
   "execution_count": 13,
   "id": "955c21fe",
   "metadata": {},
   "outputs": [],
   "source": [
    "#Визуализируем"
   ]
  },
  {
   "cell_type": "code",
   "execution_count": 14,
   "id": "9815f6c0",
   "metadata": {},
   "outputs": [
    {
     "data": {
      "text/plain": [
       "Text(0, 0.5, 'Количество точек')"
      ]
     },
     "execution_count": 14,
     "metadata": {},
     "output_type": "execute_result"
    },
    {
     "data": {
      "image/png": "[encoded data removed]",
      "text/plain": [
       "<Figure size 640x480 with 1 Axes>"
      ]
     },
     "metadata": {},
     "output_type": "display_data"
    }
   ],
   "source": [
    "import matplotlib.pyplot as plt\n",
    "df_city_tp.plot(x='city', y='id_trading_point', kind='bar', label = 'торговые точки')\n",
    "plt.title('График распределения торговых точек по городам')\n",
    "plt.xlabel('Город')\n",
    "plt.ylabel('Количество точек')\n"
   ]
  },
  {
   "cell_type": "code",
   "execution_count": 15,
   "id": "4e38c8c4",
   "metadata": {},
   "outputs": [],
   "source": [
    "#делаем группировку по клиентам с суммой платежей "
   ]
  },
  {
   "cell_type": "code",
   "execution_count": 16,
   "id": "2d13e1f1",
   "metadata": {},
   "outputs": [
    {
     "name": "stderr",
     "output_type": "stream",
     "text": [
      "C:\\Users\\Маргарита\\AppData\\Local\\Temp\\ipykernel_10780\\2050368966.py:1: FutureWarning: The default value of numeric_only in DataFrameGroupBy.sum is deprecated. In a future version, numeric_only will default to False. Either specify numeric_only or select only columns which should be valid for the function.\n",
      "  df_cl_pay=df1.groupby('id_client').sum()['amt_payment'].reset_index()\n"
     ]
    }
   ],
   "source": [
    "df_cl_pay=df1.groupby('id_client').sum()['amt_payment'].reset_index()"
   ]
  },
  {
   "cell_type": "code",
   "execution_count": 17,
   "id": "2d8b863f",
   "metadata": {},
   "outputs": [],
   "source": [
    "#Присоединяем к датафрейму dfAB суммы платежей клиентов"
   ]
  },
  {
   "cell_type": "code",
   "execution_count": 18,
   "id": "e25bb2e4",
   "metadata": {},
   "outputs": [],
   "source": [
    "df=pd.merge(dfAB,df_cl_pay,how='left')\n"
   ]
  },
  {
   "cell_type": "code",
   "execution_count": 19,
   "id": "cd95d758",
   "metadata": {},
   "outputs": [],
   "source": [
    "#просматривает датафрейм с целью выявления присутствия id_client которые не совершили покупку"
   ]
  },
  {
   "cell_type": "code",
   "execution_count": 20,
   "id": "3a7d19f6",
   "metadata": {},
   "outputs": [
    {
     "data": {
      "text/html": [
       "<div>\n",
       "<style scoped>\n",
       "    .dataframe tbody tr th:only-of-type {\n",
       "        vertical-align: middle;\n",
       "    }\n",
       "\n",
       "    .dataframe tbody tr th {\n",
       "        vertical-align: top;\n",
       "    }\n",
       "\n",
       "    .dataframe thead th {\n",
       "        text-align: right;\n",
       "    }\n",
       "</style>\n",
       "<table border=\"1\" class=\"dataframe\">\n",
       "  <thead>\n",
       "    <tr style=\"text-align: right;\">\n",
       "      <th></th>\n",
       "      <th>id_client</th>\n",
       "      <th>dtime_ad</th>\n",
       "      <th>nflag_test</th>\n",
       "      <th>id_trading_point</th>\n",
       "      <th>amt_payment</th>\n",
       "    </tr>\n",
       "  </thead>\n",
       "  <tbody>\n",
       "    <tr>\n",
       "      <th>55263</th>\n",
       "      <td>195273</td>\n",
       "      <td>2022-07-14 17:04:42.314</td>\n",
       "      <td>1</td>\n",
       "      <td>991</td>\n",
       "      <td>43083.0</td>\n",
       "    </tr>\n",
       "    <tr>\n",
       "      <th>28269</th>\n",
       "      <td>203282</td>\n",
       "      <td>2022-08-03 18:06:06.065</td>\n",
       "      <td>1</td>\n",
       "      <td>516</td>\n",
       "      <td>42222.0</td>\n",
       "    </tr>\n",
       "    <tr>\n",
       "      <th>27416</th>\n",
       "      <td>180362</td>\n",
       "      <td>2022-06-07 14:23:04.234</td>\n",
       "      <td>0</td>\n",
       "      <td>544</td>\n",
       "      <td>38664.0</td>\n",
       "    </tr>\n",
       "    <tr>\n",
       "      <th>7674</th>\n",
       "      <td>194825</td>\n",
       "      <td>2022-07-13 13:46:19.072</td>\n",
       "      <td>0</td>\n",
       "      <td>516</td>\n",
       "      <td>36645.0</td>\n",
       "    </tr>\n",
       "    <tr>\n",
       "      <th>21233</th>\n",
       "      <td>192062</td>\n",
       "      <td>2022-07-06 14:56:58.319</td>\n",
       "      <td>0</td>\n",
       "      <td>699</td>\n",
       "      <td>36310.0</td>\n",
       "    </tr>\n",
       "    <tr>\n",
       "      <th>...</th>\n",
       "      <td>...</td>\n",
       "      <td>...</td>\n",
       "      <td>...</td>\n",
       "      <td>...</td>\n",
       "      <td>...</td>\n",
       "    </tr>\n",
       "    <tr>\n",
       "      <th>55596</th>\n",
       "      <td>331831</td>\n",
       "      <td>2022-07-01 04:28:28.282</td>\n",
       "      <td>0</td>\n",
       "      <td>55</td>\n",
       "      <td>NaN</td>\n",
       "    </tr>\n",
       "    <tr>\n",
       "      <th>55597</th>\n",
       "      <td>211355</td>\n",
       "      <td>2022-08-03 02:00:09.287</td>\n",
       "      <td>0</td>\n",
       "      <td>82</td>\n",
       "      <td>NaN</td>\n",
       "    </tr>\n",
       "    <tr>\n",
       "      <th>55598</th>\n",
       "      <td>260405</td>\n",
       "      <td>2022-08-15 02:47:58.960</td>\n",
       "      <td>0</td>\n",
       "      <td>576</td>\n",
       "      <td>NaN</td>\n",
       "    </tr>\n",
       "    <tr>\n",
       "      <th>55601</th>\n",
       "      <td>244069</td>\n",
       "      <td>2022-08-08 00:12:31.319</td>\n",
       "      <td>1</td>\n",
       "      <td>991</td>\n",
       "      <td>NaN</td>\n",
       "    </tr>\n",
       "    <tr>\n",
       "      <th>55604</th>\n",
       "      <td>317377</td>\n",
       "      <td>2022-08-12 15:43:54.538</td>\n",
       "      <td>1</td>\n",
       "      <td>477</td>\n",
       "      <td>NaN</td>\n",
       "    </tr>\n",
       "  </tbody>\n",
       "</table>\n",
       "<p>55605 rows × 5 columns</p>\n",
       "</div>"
      ],
      "text/plain": [
       "       id_client                dtime_ad  nflag_test  id_trading_point  \\\n",
       "55263     195273 2022-07-14 17:04:42.314           1               991   \n",
       "28269     203282 2022-08-03 18:06:06.065           1               516   \n",
       "27416     180362 2022-06-07 14:23:04.234           0               544   \n",
       "7674      194825 2022-07-13 13:46:19.072           0               516   \n",
       "21233     192062 2022-07-06 14:56:58.319           0               699   \n",
       "...          ...                     ...         ...               ...   \n",
       "55596     331831 2022-07-01 04:28:28.282           0                55   \n",
       "55597     211355 2022-08-03 02:00:09.287           0                82   \n",
       "55598     260405 2022-08-15 02:47:58.960           0               576   \n",
       "55601     244069 2022-08-08 00:12:31.319           1               991   \n",
       "55604     317377 2022-08-12 15:43:54.538           1               477   \n",
       "\n",
       "       amt_payment  \n",
       "55263      43083.0  \n",
       "28269      42222.0  \n",
       "27416      38664.0  \n",
       "7674       36645.0  \n",
       "21233      36310.0  \n",
       "...            ...  \n",
       "55596          NaN  \n",
       "55597          NaN  \n",
       "55598          NaN  \n",
       "55601          NaN  \n",
       "55604          NaN  \n",
       "\n",
       "[55605 rows x 5 columns]"
      ]
     },
     "execution_count": 20,
     "metadata": {},
     "output_type": "execute_result"
    }
   ],
   "source": [
    "df.sort_values(by=['amt_payment'], ascending=False)"
   ]
  },
  {
   "cell_type": "code",
   "execution_count": 21,
   "id": "06d59364",
   "metadata": {},
   "outputs": [],
   "source": [
    "#Заменяем NaN на 0\n"
   ]
  },
  {
   "cell_type": "code",
   "execution_count": 22,
   "id": "bc34397f",
   "metadata": {},
   "outputs": [],
   "source": [
    "df=df.fillna(0)"
   ]
  },
  {
   "cell_type": "code",
   "execution_count": 23,
   "id": "6904a303",
   "metadata": {},
   "outputs": [],
   "source": [
    "#добавляем к датафрейму место расположения торговых точек по городам городов"
   ]
  },
  {
   "cell_type": "code",
   "execution_count": 24,
   "id": "4095c5a5",
   "metadata": {},
   "outputs": [
    {
     "data": {
      "text/html": [
       "<div>\n",
       "<style scoped>\n",
       "    .dataframe tbody tr th:only-of-type {\n",
       "        vertical-align: middle;\n",
       "    }\n",
       "\n",
       "    .dataframe tbody tr th {\n",
       "        vertical-align: top;\n",
       "    }\n",
       "\n",
       "    .dataframe thead th {\n",
       "        text-align: right;\n",
       "    }\n",
       "</style>\n",
       "<table border=\"1\" class=\"dataframe\">\n",
       "  <thead>\n",
       "    <tr style=\"text-align: right;\">\n",
       "      <th></th>\n",
       "      <th>id_client</th>\n",
       "      <th>dtime_ad</th>\n",
       "      <th>nflag_test</th>\n",
       "      <th>id_trading_point</th>\n",
       "      <th>amt_payment</th>\n",
       "      <th>city</th>\n",
       "    </tr>\n",
       "  </thead>\n",
       "  <tbody>\n",
       "    <tr>\n",
       "      <th>0</th>\n",
       "      <td>180844</td>\n",
       "      <td>2022-06-08 18:38:41.414000</td>\n",
       "      <td>0</td>\n",
       "      <td>212</td>\n",
       "      <td>5349.0</td>\n",
       "      <td>Красноярск</td>\n",
       "    </tr>\n",
       "    <tr>\n",
       "      <th>1</th>\n",
       "      <td>223863</td>\n",
       "      <td>2022-08-20 21:56:54.325000</td>\n",
       "      <td>0</td>\n",
       "      <td>212</td>\n",
       "      <td>0.0</td>\n",
       "      <td>Красноярск</td>\n",
       "    </tr>\n",
       "    <tr>\n",
       "      <th>2</th>\n",
       "      <td>201715</td>\n",
       "      <td>2022-07-30 19:07:49.264000</td>\n",
       "      <td>1</td>\n",
       "      <td>212</td>\n",
       "      <td>4171.0</td>\n",
       "      <td>Красноярск</td>\n",
       "    </tr>\n",
       "    <tr>\n",
       "      <th>3</th>\n",
       "      <td>292010</td>\n",
       "      <td>2022-07-26 20:37:16.885000</td>\n",
       "      <td>1</td>\n",
       "      <td>212</td>\n",
       "      <td>0.0</td>\n",
       "      <td>Красноярск</td>\n",
       "    </tr>\n",
       "    <tr>\n",
       "      <th>4</th>\n",
       "      <td>190438</td>\n",
       "      <td>2022-07-02 12:53:04.753000</td>\n",
       "      <td>1</td>\n",
       "      <td>212</td>\n",
       "      <td>6026.0</td>\n",
       "      <td>Красноярск</td>\n",
       "    </tr>\n",
       "  </tbody>\n",
       "</table>\n",
       "</div>"
      ],
      "text/plain": [
       "   id_client                    dtime_ad  nflag_test  id_trading_point  \\\n",
       "0     180844  2022-06-08 18:38:41.414000           0               212   \n",
       "1     223863  2022-08-20 21:56:54.325000           0               212   \n",
       "2     201715  2022-07-30 19:07:49.264000           1               212   \n",
       "3     292010  2022-07-26 20:37:16.885000           1               212   \n",
       "4     190438  2022-07-02 12:53:04.753000           1               212   \n",
       "\n",
       "   amt_payment        city  \n",
       "0       5349.0  Красноярск  \n",
       "1          0.0  Красноярск  \n",
       "2       4171.0  Красноярск  \n",
       "3          0.0  Красноярск  \n",
       "4       6026.0  Красноярск  "
      ]
     },
     "execution_count": 24,
     "metadata": {},
     "output_type": "execute_result"
    }
   ],
   "source": [
    "df_all=pd.merge(df,dfcity)\n",
    "df_all.head()"
   ]
  },
  {
   "cell_type": "code",
   "execution_count": 25,
   "id": "e134c9d2",
   "metadata": {},
   "outputs": [],
   "source": [
    "#Создаем колонку Флаг о совершении либо отсутствии оплаты"
   ]
  },
  {
   "cell_type": "code",
   "execution_count": 26,
   "id": "bde657f6",
   "metadata": {},
   "outputs": [
    {
     "data": {
      "text/html": [
       "<div>\n",
       "<style scoped>\n",
       "    .dataframe tbody tr th:only-of-type {\n",
       "        vertical-align: middle;\n",
       "    }\n",
       "\n",
       "    .dataframe tbody tr th {\n",
       "        vertical-align: top;\n",
       "    }\n",
       "\n",
       "    .dataframe thead th {\n",
       "        text-align: right;\n",
       "    }\n",
       "</style>\n",
       "<table border=\"1\" class=\"dataframe\">\n",
       "  <thead>\n",
       "    <tr style=\"text-align: right;\">\n",
       "      <th></th>\n",
       "      <th>id_client</th>\n",
       "      <th>dtime_ad</th>\n",
       "      <th>nflag_test</th>\n",
       "      <th>id_trading_point</th>\n",
       "      <th>amt_payment</th>\n",
       "      <th>city</th>\n",
       "      <th>pay_flag</th>\n",
       "    </tr>\n",
       "  </thead>\n",
       "  <tbody>\n",
       "    <tr>\n",
       "      <th>0</th>\n",
       "      <td>180844</td>\n",
       "      <td>2022-06-08 18:38:41.414000</td>\n",
       "      <td>0</td>\n",
       "      <td>212</td>\n",
       "      <td>5349.0</td>\n",
       "      <td>Красноярск</td>\n",
       "      <td>1</td>\n",
       "    </tr>\n",
       "    <tr>\n",
       "      <th>1</th>\n",
       "      <td>223863</td>\n",
       "      <td>2022-08-20 21:56:54.325000</td>\n",
       "      <td>0</td>\n",
       "      <td>212</td>\n",
       "      <td>0.0</td>\n",
       "      <td>Красноярск</td>\n",
       "      <td>0</td>\n",
       "    </tr>\n",
       "    <tr>\n",
       "      <th>2</th>\n",
       "      <td>201715</td>\n",
       "      <td>2022-07-30 19:07:49.264000</td>\n",
       "      <td>1</td>\n",
       "      <td>212</td>\n",
       "      <td>4171.0</td>\n",
       "      <td>Красноярск</td>\n",
       "      <td>1</td>\n",
       "    </tr>\n",
       "    <tr>\n",
       "      <th>3</th>\n",
       "      <td>292010</td>\n",
       "      <td>2022-07-26 20:37:16.885000</td>\n",
       "      <td>1</td>\n",
       "      <td>212</td>\n",
       "      <td>0.0</td>\n",
       "      <td>Красноярск</td>\n",
       "      <td>0</td>\n",
       "    </tr>\n",
       "    <tr>\n",
       "      <th>4</th>\n",
       "      <td>190438</td>\n",
       "      <td>2022-07-02 12:53:04.753000</td>\n",
       "      <td>1</td>\n",
       "      <td>212</td>\n",
       "      <td>6026.0</td>\n",
       "      <td>Красноярск</td>\n",
       "      <td>1</td>\n",
       "    </tr>\n",
       "  </tbody>\n",
       "</table>\n",
       "</div>"
      ],
      "text/plain": [
       "   id_client                    dtime_ad  nflag_test  id_trading_point  \\\n",
       "0     180844  2022-06-08 18:38:41.414000           0               212   \n",
       "1     223863  2022-08-20 21:56:54.325000           0               212   \n",
       "2     201715  2022-07-30 19:07:49.264000           1               212   \n",
       "3     292010  2022-07-26 20:37:16.885000           1               212   \n",
       "4     190438  2022-07-02 12:53:04.753000           1               212   \n",
       "\n",
       "   amt_payment        city  pay_flag  \n",
       "0       5349.0  Красноярск         1  \n",
       "1          0.0  Красноярск         0  \n",
       "2       4171.0  Красноярск         1  \n",
       "3          0.0  Красноярск         0  \n",
       "4       6026.0  Красноярск         1  "
      ]
     },
     "execution_count": 26,
     "metadata": {},
     "output_type": "execute_result"
    }
   ],
   "source": [
    "import numpy as np\n",
    "df_all['pay_flag']=np.where(df_all['amt_payment']==0,0,1)\n",
    "df_all.head()"
   ]
  },
  {
   "cell_type": "code",
   "execution_count": 27,
   "id": "e0080e03",
   "metadata": {},
   "outputs": [],
   "source": [
    "#Создаем функцию для подсчета значения t-критерия (критерия Стьюдента) и p_value"
   ]
  },
  {
   "cell_type": "code",
   "execution_count": 28,
   "id": "0ce4a650",
   "metadata": {},
   "outputs": [],
   "source": [
    "from scipy.stats import ttest_ind\n",
    "def test_calc(r1, r2):\n",
    "    s, p=ttest_ind(r1, r2)\n",
    "    if (s>-1.96 and s<1.96):\n",
    "        print('значения равны')\n",
    "    else:\n",
    "        if r1.mean() > r2.mean():\n",
    "            print('значение 0  группы больше')\n",
    "        else:\n",
    "            print('значение тестовой группы больше')\n",
    "    return s,p\n",
    "    "
   ]
  },
  {
   "cell_type": "code",
   "execution_count": 29,
   "id": "8cfd3094",
   "metadata": {},
   "outputs": [],
   "source": [
    "#Создаем функцию для подсчета значения критерия Манна Уитни и p_value"
   ]
  },
  {
   "cell_type": "code",
   "execution_count": 30,
   "id": "3861106c",
   "metadata": {},
   "outputs": [],
   "source": [
    "from scipy.stats import mannwhitneyu\n",
    "def mann_whitney_func(r1, r2, alpha=.05):\n",
    "    \n",
    "    s, p = mannwhitneyu(r1, r2)\n",
    "    \n",
    "    if p<alpha:\n",
    "        print('Распределения не равны')\n",
    "    else:\n",
    "        print('Распределения равны')\n",
    "        \n",
    "    return s, p"
   ]
  },
  {
   "cell_type": "code",
   "execution_count": 31,
   "id": "6f66b1b5",
   "metadata": {},
   "outputs": [],
   "source": [
    "#Определяем точки, где оплата не происходила"
   ]
  },
  {
   "cell_type": "code",
   "execution_count": 32,
   "id": "72216654",
   "metadata": {},
   "outputs": [
    {
     "name": "stderr",
     "output_type": "stream",
     "text": [
      "C:\\Users\\Маргарита\\AppData\\Local\\Temp\\ipykernel_10780\\3184494391.py:1: FutureWarning: The default value of numeric_only in DataFrameGroupBy.sum is deprecated. In a future version, numeric_only will default to False. Either specify numeric_only or select only columns which should be valid for the function.\n",
      "  df_cl=df_all.groupby('id_trading_point').sum()['amt_payment'].reset_index()\n"
     ]
    }
   ],
   "source": [
    "df_cl=df_all.groupby('id_trading_point').sum()['amt_payment'].reset_index()"
   ]
  },
  {
   "cell_type": "code",
   "execution_count": 33,
   "id": "f193f98f",
   "metadata": {},
   "outputs": [],
   "source": [
    "df_zero=[]\n",
    "for i in df_cl['id_trading_point']:\n",
    "    point_data = df_cl[df_cl['id_trading_point'] == i]\n",
    "    if (point_data['amt_payment'] == 0).any():\n",
    "        df_zero.append(i)"
   ]
  },
  {
   "cell_type": "code",
   "execution_count": 34,
   "id": "cdda72ad",
   "metadata": {},
   "outputs": [
    {
     "data": {
      "text/plain": [
       "[1, 4, 7, 26]"
      ]
     },
     "execution_count": 34,
     "metadata": {},
     "output_type": "execute_result"
    }
   ],
   "source": [
    "df_zero"
   ]
  },
  {
   "cell_type": "code",
   "execution_count": 35,
   "id": "90a03fd5",
   "metadata": {},
   "outputs": [],
   "source": [
    "#Определяем точки, где отсутствуют клиенты из тестовой или контрольной группы"
   ]
  },
  {
   "cell_type": "code",
   "execution_count": 36,
   "id": "daab3afa",
   "metadata": {},
   "outputs": [],
   "source": [
    "df_zero_point=[]\n",
    "for i in df_all['id_trading_point'].unique():\n",
    "    tg0=df_all[(df_all['id_trading_point']==i)&(df_all['nflag_test']==0)].count()['id_client']\n",
    "    tg1=df_all[(df_all['id_trading_point']==i)&(df_all['nflag_test']==1)].count()['id_client']\n",
    "    if (tg0==0) or (tg1==0):\n",
    "        df_zero_point.append(i)"
   ]
  },
  {
   "cell_type": "code",
   "execution_count": 37,
   "id": "5fe8720b",
   "metadata": {},
   "outputs": [
    {
     "data": {
      "text/plain": [
       "[1015, 866, 1099, 739, 228, 603, 810, 800]"
      ]
     },
     "execution_count": 37,
     "metadata": {},
     "output_type": "execute_result"
    }
   ],
   "source": [
    "df_zero_point"
   ]
  },
  {
   "cell_type": "code",
   "execution_count": 38,
   "id": "9099a46c",
   "metadata": {},
   "outputs": [],
   "source": [
    "#Убираем из датафрейма точки, где оплата не происходила"
   ]
  },
  {
   "cell_type": "code",
   "execution_count": 39,
   "id": "d72ee2ae",
   "metadata": {},
   "outputs": [],
   "source": [
    "df_clear=df_all[~df_all['id_trading_point'].isin(df_zero+df_zero_point)]"
   ]
  },
  {
   "cell_type": "code",
   "execution_count": 40,
   "id": "b44b1d4a",
   "metadata": {},
   "outputs": [
    {
     "data": {
      "text/html": [
       "<div>\n",
       "<style scoped>\n",
       "    .dataframe tbody tr th:only-of-type {\n",
       "        vertical-align: middle;\n",
       "    }\n",
       "\n",
       "    .dataframe tbody tr th {\n",
       "        vertical-align: top;\n",
       "    }\n",
       "\n",
       "    .dataframe thead th {\n",
       "        text-align: right;\n",
       "    }\n",
       "</style>\n",
       "<table border=\"1\" class=\"dataframe\">\n",
       "  <thead>\n",
       "    <tr style=\"text-align: right;\">\n",
       "      <th></th>\n",
       "      <th>id_client</th>\n",
       "      <th>dtime_ad</th>\n",
       "      <th>nflag_test</th>\n",
       "      <th>id_trading_point</th>\n",
       "      <th>amt_payment</th>\n",
       "      <th>city</th>\n",
       "      <th>pay_flag</th>\n",
       "    </tr>\n",
       "  </thead>\n",
       "  <tbody>\n",
       "    <tr>\n",
       "      <th>54343</th>\n",
       "      <td>283794</td>\n",
       "      <td>2022-07-22 01:29:27.080000</td>\n",
       "      <td>1</td>\n",
       "      <td>9931</td>\n",
       "      <td>0.0</td>\n",
       "      <td>Москва</td>\n",
       "      <td>0</td>\n",
       "    </tr>\n",
       "    <tr>\n",
       "      <th>54614</th>\n",
       "      <td>323265</td>\n",
       "      <td>2022-07-23 07:43:41.341000</td>\n",
       "      <td>0</td>\n",
       "      <td>9931</td>\n",
       "      <td>0.0</td>\n",
       "      <td>Москва</td>\n",
       "      <td>0</td>\n",
       "    </tr>\n",
       "    <tr>\n",
       "      <th>54417</th>\n",
       "      <td>289259</td>\n",
       "      <td>2022-08-18 06:26:01.725000</td>\n",
       "      <td>1</td>\n",
       "      <td>9931</td>\n",
       "      <td>0.0</td>\n",
       "      <td>Москва</td>\n",
       "      <td>0</td>\n",
       "    </tr>\n",
       "    <tr>\n",
       "      <th>54418</th>\n",
       "      <td>184271</td>\n",
       "      <td>2022-06-17 06:02:41.471000</td>\n",
       "      <td>1</td>\n",
       "      <td>9931</td>\n",
       "      <td>4613.0</td>\n",
       "      <td>Москва</td>\n",
       "      <td>1</td>\n",
       "    </tr>\n",
       "    <tr>\n",
       "      <th>54419</th>\n",
       "      <td>268945</td>\n",
       "      <td>2022-07-08 19:48:15.751000</td>\n",
       "      <td>1</td>\n",
       "      <td>9931</td>\n",
       "      <td>0.0</td>\n",
       "      <td>Москва</td>\n",
       "      <td>0</td>\n",
       "    </tr>\n",
       "    <tr>\n",
       "      <th>...</th>\n",
       "      <td>...</td>\n",
       "      <td>...</td>\n",
       "      <td>...</td>\n",
       "      <td>...</td>\n",
       "      <td>...</td>\n",
       "      <td>...</td>\n",
       "      <td>...</td>\n",
       "    </tr>\n",
       "    <tr>\n",
       "      <th>54751</th>\n",
       "      <td>280402</td>\n",
       "      <td>2022-08-25 17:33:41.797000</td>\n",
       "      <td>0</td>\n",
       "      <td>2</td>\n",
       "      <td>0.0</td>\n",
       "      <td>Дмитров</td>\n",
       "      <td>0</td>\n",
       "    </tr>\n",
       "    <tr>\n",
       "      <th>54752</th>\n",
       "      <td>309369</td>\n",
       "      <td>2022-08-05 19:18:10.796000</td>\n",
       "      <td>1</td>\n",
       "      <td>2</td>\n",
       "      <td>0.0</td>\n",
       "      <td>Дмитров</td>\n",
       "      <td>0</td>\n",
       "    </tr>\n",
       "    <tr>\n",
       "      <th>54753</th>\n",
       "      <td>269828</td>\n",
       "      <td>2022-08-09 07:47:25.789000</td>\n",
       "      <td>1</td>\n",
       "      <td>2</td>\n",
       "      <td>0.0</td>\n",
       "      <td>Дмитров</td>\n",
       "      <td>0</td>\n",
       "    </tr>\n",
       "    <tr>\n",
       "      <th>54754</th>\n",
       "      <td>255549</td>\n",
       "      <td>2022-08-13 15:58:01.715000</td>\n",
       "      <td>1</td>\n",
       "      <td>2</td>\n",
       "      <td>0.0</td>\n",
       "      <td>Дмитров</td>\n",
       "      <td>0</td>\n",
       "    </tr>\n",
       "    <tr>\n",
       "      <th>54718</th>\n",
       "      <td>283022</td>\n",
       "      <td>2022-07-20 00:38:37.756000</td>\n",
       "      <td>0</td>\n",
       "      <td>2</td>\n",
       "      <td>0.0</td>\n",
       "      <td>Дмитров</td>\n",
       "      <td>0</td>\n",
       "    </tr>\n",
       "  </tbody>\n",
       "</table>\n",
       "<p>46927 rows × 7 columns</p>\n",
       "</div>"
      ],
      "text/plain": [
       "       id_client                    dtime_ad  nflag_test  id_trading_point  \\\n",
       "54343     283794  2022-07-22 01:29:27.080000           1              9931   \n",
       "54614     323265  2022-07-23 07:43:41.341000           0              9931   \n",
       "54417     289259  2022-08-18 06:26:01.725000           1              9931   \n",
       "54418     184271  2022-06-17 06:02:41.471000           1              9931   \n",
       "54419     268945  2022-07-08 19:48:15.751000           1              9931   \n",
       "...          ...                         ...         ...               ...   \n",
       "54751     280402  2022-08-25 17:33:41.797000           0                 2   \n",
       "54752     309369  2022-08-05 19:18:10.796000           1                 2   \n",
       "54753     269828  2022-08-09 07:47:25.789000           1                 2   \n",
       "54754     255549  2022-08-13 15:58:01.715000           1                 2   \n",
       "54718     283022  2022-07-20 00:38:37.756000           0                 2   \n",
       "\n",
       "       amt_payment     city  pay_flag  \n",
       "54343          0.0   Москва         0  \n",
       "54614          0.0   Москва         0  \n",
       "54417          0.0   Москва         0  \n",
       "54418       4613.0   Москва         1  \n",
       "54419          0.0   Москва         0  \n",
       "...            ...      ...       ...  \n",
       "54751          0.0  Дмитров         0  \n",
       "54752          0.0  Дмитров         0  \n",
       "54753          0.0  Дмитров         0  \n",
       "54754          0.0  Дмитров         0  \n",
       "54718          0.0  Дмитров         0  \n",
       "\n",
       "[46927 rows x 7 columns]"
      ]
     },
     "execution_count": 40,
     "metadata": {},
     "output_type": "execute_result"
    }
   ],
   "source": [
    "df_clear.sort_values(by=['id_trading_point'], ascending=False)"
   ]
  },
  {
   "cell_type": "code",
   "execution_count": 41,
   "id": "51f33d17",
   "metadata": {},
   "outputs": [],
   "source": [
    "#Рассчитываем количество платежей в тестовой и контрольной группах и строим график"
   ]
  },
  {
   "cell_type": "code",
   "execution_count": 42,
   "id": "d3bc4bd6",
   "metadata": {},
   "outputs": [],
   "source": [
    "df_test=df_clear.groupby('nflag_test').count()['pay_flag'].reset_index()"
   ]
  },
  {
   "cell_type": "code",
   "execution_count": 43,
   "id": "288c34db",
   "metadata": {},
   "outputs": [
    {
     "data": {
      "text/html": [
       "<div>\n",
       "<style scoped>\n",
       "    .dataframe tbody tr th:only-of-type {\n",
       "        vertical-align: middle;\n",
       "    }\n",
       "\n",
       "    .dataframe tbody tr th {\n",
       "        vertical-align: top;\n",
       "    }\n",
       "\n",
       "    .dataframe thead th {\n",
       "        text-align: right;\n",
       "    }\n",
       "</style>\n",
       "<table border=\"1\" class=\"dataframe\">\n",
       "  <thead>\n",
       "    <tr style=\"text-align: right;\">\n",
       "      <th></th>\n",
       "      <th>nflag_test</th>\n",
       "      <th>pay_flag</th>\n",
       "    </tr>\n",
       "  </thead>\n",
       "  <tbody>\n",
       "    <tr>\n",
       "      <th>0</th>\n",
       "      <td>0</td>\n",
       "      <td>23659</td>\n",
       "    </tr>\n",
       "    <tr>\n",
       "      <th>1</th>\n",
       "      <td>1</td>\n",
       "      <td>23268</td>\n",
       "    </tr>\n",
       "  </tbody>\n",
       "</table>\n",
       "</div>"
      ],
      "text/plain": [
       "   nflag_test  pay_flag\n",
       "0           0     23659\n",
       "1           1     23268"
      ]
     },
     "execution_count": 43,
     "metadata": {},
     "output_type": "execute_result"
    }
   ],
   "source": [
    "df_test"
   ]
  },
  {
   "cell_type": "code",
   "execution_count": 44,
   "id": "658a287b",
   "metadata": {},
   "outputs": [
    {
     "data": {
      "text/plain": [
       "Text(0, 0.5, 'Количество платежей')"
      ]
     },
     "execution_count": 44,
     "metadata": {},
     "output_type": "execute_result"
    },
    {
     "data": {
      "image/png": "[encoded data removed]",
      "text/plain": [
       "<Figure size 640x480 with 1 Axes>"
      ]
     },
     "metadata": {},
     "output_type": "display_data"
    }
   ],
   "source": [
    "df_test.plot(x='nflag_test', y='pay_flag', kind='bar', color=['red', 'green'])\n",
    "plt.legend('', frameon=False)\n",
    "plt.title('График распределения доходимости платежей')\n",
    "plt.xlabel('Группы')\n",
    "plt.ylabel('Количество платежей')\n"
   ]
  },
  {
   "cell_type": "code",
   "execution_count": 45,
   "id": "8a87884a",
   "metadata": {},
   "outputs": [],
   "source": [
    "#Прогоняем данные через созданные функции"
   ]
  },
  {
   "cell_type": "code",
   "execution_count": 46,
   "id": "778b65e9",
   "metadata": {},
   "outputs": [
    {
     "name": "stdout",
     "output_type": "stream",
     "text": [
      "значение тестовой группы больше\n"
     ]
    },
    {
     "data": {
      "text/plain": [
       "(-7.276120451887521, 3.489166865988976e-13)"
      ]
     },
     "execution_count": 46,
     "metadata": {},
     "output_type": "execute_result"
    }
   ],
   "source": [
    "test_calc(df_clear[df_clear['nflag_test']==0]['amt_payment'], df_clear[df_clear['nflag_test']==1]['amt_payment'])"
   ]
  },
  {
   "cell_type": "code",
   "execution_count": 47,
   "id": "dcc72bf1",
   "metadata": {},
   "outputs": [
    {
     "name": "stdout",
     "output_type": "stream",
     "text": [
      "значение тестовой группы больше\n"
     ]
    },
    {
     "data": {
      "text/plain": [
       "(-6.18364092301134, 6.315477502328519e-10)"
      ]
     },
     "execution_count": 47,
     "metadata": {},
     "output_type": "execute_result"
    }
   ],
   "source": [
    "test_calc(df_clear[df_clear['nflag_test']==0]['pay_flag'], df_clear[df_clear['nflag_test']==1]['pay_flag'])"
   ]
  },
  {
   "cell_type": "code",
   "execution_count": 48,
   "id": "eca57c4e",
   "metadata": {},
   "outputs": [
    {
     "name": "stdout",
     "output_type": "stream",
     "text": [
      "Распределения не равны\n"
     ]
    },
    {
     "data": {
      "text/plain": [
       "(265075721.0, 1.7375252140520593e-13)"
      ]
     },
     "execution_count": 48,
     "metadata": {},
     "output_type": "execute_result"
    }
   ],
   "source": [
    "mann_whitney_func(df_clear[df_clear['nflag_test']==0]['amt_payment'], df_clear[df_clear['nflag_test']==1]['amt_payment'], alpha=.05)"
   ]
  },
  {
   "cell_type": "code",
   "execution_count": 49,
   "id": "69363a5e",
   "metadata": {},
   "outputs": [
    {
     "name": "stdout",
     "output_type": "stream",
     "text": [
      "Распределения не равны\n"
     ]
    },
    {
     "data": {
      "text/plain": [
       "(267397880.0, 6.36207858774286e-10)"
      ]
     },
     "execution_count": 49,
     "metadata": {},
     "output_type": "execute_result"
    }
   ],
   "source": [
    "mann_whitney_func(df_clear[df_clear['nflag_test']==0]['pay_flag'], df_clear[df_clear['nflag_test']==1]['pay_flag'], alpha=.05)"
   ]
  },
  {
   "cell_type": "code",
   "execution_count": 50,
   "id": "a3ff5a88",
   "metadata": {},
   "outputs": [
    {
     "name": "stdout",
     "output_type": "stream",
     "text": [
      "значение тестовой группы больше\n"
     ]
    },
    {
     "data": {
      "text/plain": [
       "(-7.896238614943352, 3.1166496296307097e-15)"
      ]
     },
     "execution_count": 50,
     "metadata": {},
     "output_type": "execute_result"
    }
   ],
   "source": [
    "test_calc(df_clear[(df_clear['nflag_test']==0)&(df_clear['city']=='Москва')]['amt_payment'], df_clear[(df_clear['nflag_test']==1)&(df_clear['city']=='Москва')]['amt_payment'])"
   ]
  },
  {
   "cell_type": "code",
   "execution_count": 51,
   "id": "76e86899",
   "metadata": {},
   "outputs": [
    {
     "name": "stdout",
     "output_type": "stream",
     "text": [
      "значение тестовой группы больше\n"
     ]
    },
    {
     "data": {
      "text/plain": [
       "(-6.427576036124008, 1.3442208722377196e-10)"
      ]
     },
     "execution_count": 51,
     "metadata": {},
     "output_type": "execute_result"
    }
   ],
   "source": [
    "test_calc(df_clear[(df_clear['nflag_test']==0)&(df_clear['city']=='Москва')]['pay_flag'], df_clear[(df_clear['nflag_test']==1)&(df_clear['city']=='Москва')]['pay_flag'])"
   ]
  },
  {
   "cell_type": "code",
   "execution_count": 52,
   "id": "4c523ccf",
   "metadata": {},
   "outputs": [
    {
     "name": "stdout",
     "output_type": "stream",
     "text": [
      "Распределения не равны\n",
      "Распределения не равны\n"
     ]
    },
    {
     "data": {
      "text/plain": [
       "(17987623.0, 1.3888194541373183e-10)"
      ]
     },
     "execution_count": 52,
     "metadata": {},
     "output_type": "execute_result"
    }
   ],
   "source": [
    "mann_whitney_func(df_clear[(df_clear['nflag_test']==0)&(df_clear['city']=='Москва')]['amt_payment'], df_clear[(df_clear['nflag_test']==1)&(df_clear['city']=='Москва')]['amt_payment'], alpha=.05)\n",
    "mann_whitney_func(df_clear[(df_clear['nflag_test']==0)&(df_clear['city']=='Москва')]['pay_flag'], df_clear[(df_clear['nflag_test']==1)&(df_clear['city']=='Москва')]['pay_flag'], alpha=.05)"
   ]
  },
  {
   "cell_type": "code",
   "execution_count": 53,
   "id": "1df190d5",
   "metadata": {},
   "outputs": [
    {
     "name": "stdout",
     "output_type": "stream",
     "text": [
      "По городу Красноярск\n",
      "При сравнении показателя выручки\n",
      "значения равны\n",
      "При сравнении показателя конверсия\n",
      "значения равны\n",
      "При сравнении показателя выручки по mann_whitney\n",
      "Распределения равны\n",
      "При сравнении показателя конверсияпо mann_whitney\n",
      "Распределения равны\n",
      "По городу Нижний Новгород\n",
      "При сравнении показателя выручки\n",
      "значения равны\n",
      "При сравнении показателя конверсия\n",
      "значения равны\n",
      "При сравнении показателя выручки по mann_whitney\n",
      "Распределения равны\n",
      "При сравнении показателя конверсияпо mann_whitney\n",
      "Распределения равны\n",
      "По городу Мурманск\n",
      "При сравнении показателя выручки\n",
      "значения равны\n",
      "При сравнении показателя конверсия\n",
      "значения равны\n",
      "При сравнении показателя выручки по mann_whitney\n",
      "Распределения равны\n",
      "При сравнении показателя конверсияпо mann_whitney\n",
      "Распределения равны\n",
      "По городу Казань\n",
      "При сравнении показателя выручки\n",
      "значения равны\n",
      "При сравнении показателя конверсия\n",
      "значения равны\n",
      "При сравнении показателя выручки по mann_whitney\n",
      "Распределения равны\n",
      "При сравнении показателя конверсияпо mann_whitney\n",
      "Распределения равны\n",
      "По городу Санкт-Петербург\n",
      "При сравнении показателя выручки\n",
      "значение тестовой группы больше\n",
      "При сравнении показателя конверсия\n",
      "значение тестовой группы больше\n",
      "При сравнении показателя выручки по mann_whitney\n",
      "Распределения не равны\n",
      "При сравнении показателя конверсияпо mann_whitney\n",
      "Распределения не равны\n",
      "По городу Москва\n",
      "При сравнении показателя выручки\n",
      "значение тестовой группы больше\n",
      "При сравнении показателя конверсия\n",
      "значение тестовой группы больше\n",
      "При сравнении показателя выручки по mann_whitney\n",
      "Распределения не равны\n",
      "При сравнении показателя конверсияпо mann_whitney\n",
      "Распределения не равны\n",
      "По городу Ярославль\n",
      "При сравнении показателя выручки\n",
      "значение 0  группы больше\n",
      "При сравнении показателя конверсия\n",
      "значение 0  группы больше\n",
      "При сравнении показателя выручки по mann_whitney\n",
      "Распределения не равны\n",
      "При сравнении показателя конверсияпо mann_whitney\n",
      "Распределения не равны\n",
      "По городу Саратов\n",
      "При сравнении показателя выручки\n",
      "значения равны\n",
      "При сравнении показателя конверсия\n",
      "значения равны\n",
      "При сравнении показателя выручки по mann_whitney\n",
      "Распределения равны\n",
      "При сравнении показателя конверсияпо mann_whitney\n",
      "Распределения равны\n",
      "По городу Тольятти\n",
      "При сравнении показателя выручки\n",
      "значения равны\n",
      "При сравнении показателя конверсия\n",
      "значения равны\n",
      "При сравнении показателя выручки по mann_whitney\n",
      "Распределения равны\n",
      "При сравнении показателя конверсияпо mann_whitney\n",
      "Распределения равны\n",
      "По городу Тюмень\n",
      "При сравнении показателя выручки\n",
      "значения равны\n",
      "При сравнении показателя конверсия\n",
      "значение тестовой группы больше\n",
      "При сравнении показателя выручки по mann_whitney\n",
      "Распределения не равны\n",
      "При сравнении показателя конверсияпо mann_whitney\n",
      "Распределения не равны\n",
      "По городу Волгоград\n",
      "При сравнении показателя выручки\n",
      "значение 0  группы больше\n",
      "При сравнении показателя конверсия\n",
      "значения равны\n",
      "При сравнении показателя выручки по mann_whitney\n",
      "Распределения не равны\n",
      "При сравнении показателя конверсияпо mann_whitney\n",
      "Распределения равны\n",
      "По городу Сочи\n",
      "При сравнении показателя выручки\n",
      "значения равны\n",
      "При сравнении показателя конверсия\n",
      "значение 0  группы больше\n",
      "При сравнении показателя выручки по mann_whitney\n",
      "Распределения равны\n",
      "При сравнении показателя конверсияпо mann_whitney\n",
      "Распределения не равны\n",
      "По городу Владимир\n",
      "При сравнении показателя выручки\n",
      "значение тестовой группы больше\n",
      "При сравнении показателя конверсия\n",
      "значения равны\n",
      "При сравнении показателя выручки по mann_whitney\n",
      "Распределения не равны\n",
      "При сравнении показателя конверсияпо mann_whitney\n",
      "Распределения равны\n",
      "По городу Самара\n",
      "При сравнении показателя выручки\n",
      "значение тестовой группы больше\n",
      "При сравнении показателя конверсия\n",
      "значение тестовой группы больше\n",
      "При сравнении показателя выручки по mann_whitney\n",
      "Распределения не равны\n",
      "При сравнении показателя конверсияпо mann_whitney\n",
      "Распределения не равны\n",
      "По городу Краснодар\n",
      "При сравнении показателя выручки\n",
      "значения равны\n",
      "При сравнении показателя конверсия\n",
      "значения равны\n",
      "При сравнении показателя выручки по mann_whitney\n",
      "Распределения равны\n",
      "При сравнении показателя конверсияпо mann_whitney\n",
      "Распределения равны\n",
      "По городу Сахалинск\n",
      "При сравнении показателя выручки\n",
      "значения равны\n",
      "При сравнении показателя конверсия\n",
      "значения равны\n",
      "При сравнении показателя выручки по mann_whitney\n",
      "Распределения равны\n",
      "При сравнении показателя конверсияпо mann_whitney\n",
      "Распределения равны\n",
      "По городу Великий Новгород\n",
      "При сравнении показателя выручки\n",
      "значения равны\n",
      "При сравнении показателя конверсия\n",
      "значения равны\n",
      "При сравнении показателя выручки по mann_whitney\n",
      "Распределения равны\n",
      "При сравнении показателя конверсияпо mann_whitney\n",
      "Распределения равны\n",
      "По городу Дмитров\n",
      "При сравнении показателя выручки\n",
      "значения равны\n",
      "При сравнении показателя конверсия\n",
      "значения равны\n",
      "При сравнении показателя выручки по mann_whitney\n",
      "Распределения равны\n",
      "При сравнении показателя конверсияпо mann_whitney\n",
      "Распределения равны\n"
     ]
    }
   ],
   "source": [
    "for city in df_clear['city'].unique():\n",
    "    a=city\n",
    "    print('По городу', a)\n",
    "    print('При сравнении показателя выручки')\n",
    "    test_calc(df_clear[(df_clear['nflag_test']==0)&(df_clear['city']==a)]['amt_payment'], df_clear[(df_clear['nflag_test']==1)&(df_clear['city']==a)]['amt_payment'])\n",
    "    print('При сравнении показателя конверсия')\n",
    "    test_calc(df_clear[(df_clear['nflag_test']==0)&(df_clear['city']==a)]['pay_flag'], df_clear[(df_clear['nflag_test']==1)&(df_clear['city']==a)]['pay_flag'])\n",
    "    print('При сравнении показателя выручки по mann_whitney')\n",
    "    mann_whitney_func(df_clear[(df_clear['nflag_test']==0)&(df_clear['city']==a)]['amt_payment'], df_clear[(df_clear['nflag_test']==1)&(df_clear['city']==a)]['amt_payment'], alpha=.05)\n",
    "    print('При сравнении показателя конверсияпо mann_whitney')\n",
    "    mann_whitney_func(df_clear[(df_clear['nflag_test']==0)&(df_clear['city']==a)]['pay_flag'], df_clear[(df_clear['nflag_test']==1)&(df_clear['city']==a)]['pay_flag'], alpha=.05)"
   ]
  },
  {
   "cell_type": "code",
   "execution_count": 54,
   "id": "21b0573f",
   "metadata": {},
   "outputs": [],
   "source": [
    "#Создаем итоговый датафрейм со всеми данными "
   ]
  },
  {
   "cell_type": "code",
   "execution_count": 55,
   "id": "ce50ba95",
   "metadata": {},
   "outputs": [
    {
     "name": "stderr",
     "output_type": "stream",
     "text": [
      "C:\\Users\\Маргарита\\AppData\\Local\\Temp\\ipykernel_10780\\4194578938.py:25: FutureWarning: The frame.append method is deprecated and will be removed from pandas in a future version. Use pandas.concat instead.\n",
      "  df_diplom = df_diplom.append({  'city':i, 'id_trading_point':j,'count_test':count_test,'count_control':count_control,\n",
      "C:\\Users\\Маргарита\\AppData\\Local\\Temp\\ipykernel_10780\\4194578938.py:25: FutureWarning: The frame.append method is deprecated and will be removed from pandas in a future version. Use pandas.concat instead.\n",
      "  df_diplom = df_diplom.append({  'city':i, 'id_trading_point':j,'count_test':count_test,'count_control':count_control,\n",
      "C:\\Users\\Маргарита\\AppData\\Local\\Temp\\ipykernel_10780\\4194578938.py:25: FutureWarning: The frame.append method is deprecated and will be removed from pandas in a future version. Use pandas.concat instead.\n",
      "  df_diplom = df_diplom.append({  'city':i, 'id_trading_point':j,'count_test':count_test,'count_control':count_control,\n",
      "C:\\Users\\Маргарита\\AppData\\Local\\Temp\\ipykernel_10780\\4194578938.py:25: FutureWarning: The frame.append method is deprecated and will be removed from pandas in a future version. Use pandas.concat instead.\n",
      "  df_diplom = df_diplom.append({  'city':i, 'id_trading_point':j,'count_test':count_test,'count_control':count_control,\n",
      "C:\\Users\\Маргарита\\AppData\\Local\\Temp\\ipykernel_10780\\4194578938.py:25: FutureWarning: The frame.append method is deprecated and will be removed from pandas in a future version. Use pandas.concat instead.\n",
      "  df_diplom = df_diplom.append({  'city':i, 'id_trading_point':j,'count_test':count_test,'count_control':count_control,\n",
      "C:\\Users\\Маргарита\\AppData\\Local\\Temp\\ipykernel_10780\\4194578938.py:25: FutureWarning: The frame.append method is deprecated and will be removed from pandas in a future version. Use pandas.concat instead.\n",
      "  df_diplom = df_diplom.append({  'city':i, 'id_trading_point':j,'count_test':count_test,'count_control':count_control,\n",
      "C:\\Users\\Маргарита\\AppData\\Local\\Temp\\ipykernel_10780\\4194578938.py:25: FutureWarning: The frame.append method is deprecated and will be removed from pandas in a future version. Use pandas.concat instead.\n",
      "  df_diplom = df_diplom.append({  'city':i, 'id_trading_point':j,'count_test':count_test,'count_control':count_control,\n",
      "C:\\Users\\Маргарита\\AppData\\Local\\Temp\\ipykernel_10780\\4194578938.py:25: FutureWarning: The frame.append method is deprecated and will be removed from pandas in a future version. Use pandas.concat instead.\n",
      "  df_diplom = df_diplom.append({  'city':i, 'id_trading_point':j,'count_test':count_test,'count_control':count_control,\n",
      "C:\\Users\\Маргарита\\AppData\\Local\\Temp\\ipykernel_10780\\4194578938.py:25: FutureWarning: The frame.append method is deprecated and will be removed from pandas in a future version. Use pandas.concat instead.\n",
      "  df_diplom = df_diplom.append({  'city':i, 'id_trading_point':j,'count_test':count_test,'count_control':count_control,\n",
      "C:\\Users\\Маргарита\\AppData\\Local\\Temp\\ipykernel_10780\\4194578938.py:25: FutureWarning: The frame.append method is deprecated and will be removed from pandas in a future version. Use pandas.concat instead.\n",
      "  df_diplom = df_diplom.append({  'city':i, 'id_trading_point':j,'count_test':count_test,'count_control':count_control,\n",
      "C:\\Users\\Маргарита\\AppData\\Local\\Temp\\ipykernel_10780\\4194578938.py:25: FutureWarning: The frame.append method is deprecated and will be removed from pandas in a future version. Use pandas.concat instead.\n",
      "  df_diplom = df_diplom.append({  'city':i, 'id_trading_point':j,'count_test':count_test,'count_control':count_control,\n",
      "C:\\Users\\Маргарита\\AppData\\Local\\Temp\\ipykernel_10780\\4194578938.py:25: FutureWarning: The frame.append method is deprecated and will be removed from pandas in a future version. Use pandas.concat instead.\n",
      "  df_diplom = df_diplom.append({  'city':i, 'id_trading_point':j,'count_test':count_test,'count_control':count_control,\n",
      "C:\\Users\\Маргарита\\AppData\\Local\\Temp\\ipykernel_10780\\4194578938.py:25: FutureWarning: The frame.append method is deprecated and will be removed from pandas in a future version. Use pandas.concat instead.\n",
      "  df_diplom = df_diplom.append({  'city':i, 'id_trading_point':j,'count_test':count_test,'count_control':count_control,\n",
      "C:\\Users\\Маргарита\\AppData\\Local\\Temp\\ipykernel_10780\\4194578938.py:25: FutureWarning: The frame.append method is deprecated and will be removed from pandas in a future version. Use pandas.concat instead.\n",
      "  df_diplom = df_diplom.append({  'city':i, 'id_trading_point':j,'count_test':count_test,'count_control':count_control,\n",
      "C:\\Users\\Маргарита\\AppData\\Local\\Temp\\ipykernel_10780\\4194578938.py:25: FutureWarning: The frame.append method is deprecated and will be removed from pandas in a future version. Use pandas.concat instead.\n",
      "  df_diplom = df_diplom.append({  'city':i, 'id_trading_point':j,'count_test':count_test,'count_control':count_control,\n",
      "C:\\Users\\Маргарита\\AppData\\Local\\Temp\\ipykernel_10780\\4194578938.py:25: FutureWarning: The frame.append method is deprecated and will be removed from pandas in a future version. Use pandas.concat instead.\n",
      "  df_diplom = df_diplom.append({  'city':i, 'id_trading_point':j,'count_test':count_test,'count_control':count_control,\n",
      "C:\\Users\\Маргарита\\AppData\\Local\\Temp\\ipykernel_10780\\4194578938.py:25: FutureWarning: The frame.append method is deprecated and will be removed from pandas in a future version. Use pandas.concat instead.\n",
      "  df_diplom = df_diplom.append({  'city':i, 'id_trading_point':j,'count_test':count_test,'count_control':count_control,\n",
      "C:\\Users\\Маргарита\\AppData\\Local\\Temp\\ipykernel_10780\\4194578938.py:25: FutureWarning: The frame.append method is deprecated and will be removed from pandas in a future version. Use pandas.concat instead.\n",
      "  df_diplom = df_diplom.append({  'city':i, 'id_trading_point':j,'count_test':count_test,'count_control':count_control,\n",
      "C:\\Users\\Маргарита\\AppData\\Local\\Temp\\ipykernel_10780\\4194578938.py:25: FutureWarning: The frame.append method is deprecated and will be removed from pandas in a future version. Use pandas.concat instead.\n",
      "  df_diplom = df_diplom.append({  'city':i, 'id_trading_point':j,'count_test':count_test,'count_control':count_control,\n",
      "C:\\Users\\Маргарита\\AppData\\Local\\Temp\\ipykernel_10780\\4194578938.py:25: FutureWarning: The frame.append method is deprecated and will be removed from pandas in a future version. Use pandas.concat instead.\n",
      "  df_diplom = df_diplom.append({  'city':i, 'id_trading_point':j,'count_test':count_test,'count_control':count_control,\n",
      "C:\\Users\\Маргарита\\AppData\\Local\\Temp\\ipykernel_10780\\4194578938.py:25: FutureWarning: The frame.append method is deprecated and will be removed from pandas in a future version. Use pandas.concat instead.\n",
      "  df_diplom = df_diplom.append({  'city':i, 'id_trading_point':j,'count_test':count_test,'count_control':count_control,\n",
      "C:\\Users\\Маргарита\\AppData\\Local\\Temp\\ipykernel_10780\\4194578938.py:25: FutureWarning: The frame.append method is deprecated and will be removed from pandas in a future version. Use pandas.concat instead.\n",
      "  df_diplom = df_diplom.append({  'city':i, 'id_trading_point':j,'count_test':count_test,'count_control':count_control,\n",
      "C:\\Users\\Маргарита\\AppData\\Local\\Temp\\ipykernel_10780\\4194578938.py:25: FutureWarning: The frame.append method is deprecated and will be removed from pandas in a future version. Use pandas.concat instead.\n",
      "  df_diplom = df_diplom.append({  'city':i, 'id_trading_point':j,'count_test':count_test,'count_control':count_control,\n",
      "C:\\Users\\Маргарита\\AppData\\Local\\Temp\\ipykernel_10780\\4194578938.py:25: FutureWarning: The frame.append method is deprecated and will be removed from pandas in a future version. Use pandas.concat instead.\n",
      "  df_diplom = df_diplom.append({  'city':i, 'id_trading_point':j,'count_test':count_test,'count_control':count_control,\n",
      "C:\\Users\\Маргарита\\AppData\\Local\\Temp\\ipykernel_10780\\4194578938.py:25: FutureWarning: The frame.append method is deprecated and will be removed from pandas in a future version. Use pandas.concat instead.\n",
      "  df_diplom = df_diplom.append({  'city':i, 'id_trading_point':j,'count_test':count_test,'count_control':count_control,\n",
      "C:\\Users\\Маргарита\\AppData\\Local\\Temp\\ipykernel_10780\\4194578938.py:25: FutureWarning: The frame.append method is deprecated and will be removed from pandas in a future version. Use pandas.concat instead.\n",
      "  df_diplom = df_diplom.append({  'city':i, 'id_trading_point':j,'count_test':count_test,'count_control':count_control,\n",
      "C:\\Users\\Маргарита\\AppData\\Local\\Temp\\ipykernel_10780\\4194578938.py:25: FutureWarning: The frame.append method is deprecated and will be removed from pandas in a future version. Use pandas.concat instead.\n",
      "  df_diplom = df_diplom.append({  'city':i, 'id_trading_point':j,'count_test':count_test,'count_control':count_control,\n",
      "C:\\Users\\Маргарита\\AppData\\Local\\Temp\\ipykernel_10780\\4194578938.py:25: FutureWarning: The frame.append method is deprecated and will be removed from pandas in a future version. Use pandas.concat instead.\n",
      "  df_diplom = df_diplom.append({  'city':i, 'id_trading_point':j,'count_test':count_test,'count_control':count_control,\n",
      "C:\\Users\\Маргарита\\AppData\\Local\\Temp\\ipykernel_10780\\4194578938.py:25: FutureWarning: The frame.append method is deprecated and will be removed from pandas in a future version. Use pandas.concat instead.\n",
      "  df_diplom = df_diplom.append({  'city':i, 'id_trading_point':j,'count_test':count_test,'count_control':count_control,\n",
      "C:\\Users\\Маргарита\\AppData\\Local\\Temp\\ipykernel_10780\\4194578938.py:25: FutureWarning: The frame.append method is deprecated and will be removed from pandas in a future version. Use pandas.concat instead.\n",
      "  df_diplom = df_diplom.append({  'city':i, 'id_trading_point':j,'count_test':count_test,'count_control':count_control,\n",
      "C:\\Users\\Маргарита\\AppData\\Local\\Temp\\ipykernel_10780\\4194578938.py:25: FutureWarning: The frame.append method is deprecated and will be removed from pandas in a future version. Use pandas.concat instead.\n",
      "  df_diplom = df_diplom.append({  'city':i, 'id_trading_point':j,'count_test':count_test,'count_control':count_control,\n",
      "C:\\Users\\Маргарита\\AppData\\Local\\Temp\\ipykernel_10780\\4194578938.py:25: FutureWarning: The frame.append method is deprecated and will be removed from pandas in a future version. Use pandas.concat instead.\n",
      "  df_diplom = df_diplom.append({  'city':i, 'id_trading_point':j,'count_test':count_test,'count_control':count_control,\n"
     ]
    },
    {
     "name": "stderr",
     "output_type": "stream",
     "text": [
      "C:\\Users\\Маргарита\\AppData\\Local\\Temp\\ipykernel_10780\\4194578938.py:25: FutureWarning: The frame.append method is deprecated and will be removed from pandas in a future version. Use pandas.concat instead.\n",
      "  df_diplom = df_diplom.append({  'city':i, 'id_trading_point':j,'count_test':count_test,'count_control':count_control,\n",
      "C:\\Users\\Маргарита\\AppData\\Local\\Temp\\ipykernel_10780\\4194578938.py:25: FutureWarning: The frame.append method is deprecated and will be removed from pandas in a future version. Use pandas.concat instead.\n",
      "  df_diplom = df_diplom.append({  'city':i, 'id_trading_point':j,'count_test':count_test,'count_control':count_control,\n",
      "C:\\Users\\Маргарита\\AppData\\Local\\Temp\\ipykernel_10780\\4194578938.py:25: FutureWarning: The frame.append method is deprecated and will be removed from pandas in a future version. Use pandas.concat instead.\n",
      "  df_diplom = df_diplom.append({  'city':i, 'id_trading_point':j,'count_test':count_test,'count_control':count_control,\n",
      "C:\\Users\\Маргарита\\AppData\\Local\\Temp\\ipykernel_10780\\4194578938.py:25: FutureWarning: The frame.append method is deprecated and will be removed from pandas in a future version. Use pandas.concat instead.\n",
      "  df_diplom = df_diplom.append({  'city':i, 'id_trading_point':j,'count_test':count_test,'count_control':count_control,\n",
      "C:\\Users\\Маргарита\\AppData\\Local\\Temp\\ipykernel_10780\\4194578938.py:25: FutureWarning: The frame.append method is deprecated and will be removed from pandas in a future version. Use pandas.concat instead.\n",
      "  df_diplom = df_diplom.append({  'city':i, 'id_trading_point':j,'count_test':count_test,'count_control':count_control,\n",
      "C:\\Users\\Маргарита\\AppData\\Local\\Temp\\ipykernel_10780\\4194578938.py:25: FutureWarning: The frame.append method is deprecated and will be removed from pandas in a future version. Use pandas.concat instead.\n",
      "  df_diplom = df_diplom.append({  'city':i, 'id_trading_point':j,'count_test':count_test,'count_control':count_control,\n",
      "C:\\Users\\Маргарита\\AppData\\Local\\Temp\\ipykernel_10780\\4194578938.py:25: FutureWarning: The frame.append method is deprecated and will be removed from pandas in a future version. Use pandas.concat instead.\n",
      "  df_diplom = df_diplom.append({  'city':i, 'id_trading_point':j,'count_test':count_test,'count_control':count_control,\n",
      "C:\\Users\\Маргарита\\AppData\\Local\\Temp\\ipykernel_10780\\4194578938.py:25: FutureWarning: The frame.append method is deprecated and will be removed from pandas in a future version. Use pandas.concat instead.\n",
      "  df_diplom = df_diplom.append({  'city':i, 'id_trading_point':j,'count_test':count_test,'count_control':count_control,\n",
      "C:\\Users\\Маргарита\\AppData\\Local\\Temp\\ipykernel_10780\\4194578938.py:25: FutureWarning: The frame.append method is deprecated and will be removed from pandas in a future version. Use pandas.concat instead.\n",
      "  df_diplom = df_diplom.append({  'city':i, 'id_trading_point':j,'count_test':count_test,'count_control':count_control,\n",
      "C:\\Users\\Маргарита\\AppData\\Local\\Temp\\ipykernel_10780\\4194578938.py:25: FutureWarning: The frame.append method is deprecated and will be removed from pandas in a future version. Use pandas.concat instead.\n",
      "  df_diplom = df_diplom.append({  'city':i, 'id_trading_point':j,'count_test':count_test,'count_control':count_control,\n",
      "C:\\Users\\Маргарита\\AppData\\Local\\Temp\\ipykernel_10780\\4194578938.py:25: FutureWarning: The frame.append method is deprecated and will be removed from pandas in a future version. Use pandas.concat instead.\n",
      "  df_diplom = df_diplom.append({  'city':i, 'id_trading_point':j,'count_test':count_test,'count_control':count_control,\n",
      "C:\\Users\\Маргарита\\AppData\\Local\\Temp\\ipykernel_10780\\4194578938.py:25: FutureWarning: The frame.append method is deprecated and will be removed from pandas in a future version. Use pandas.concat instead.\n",
      "  df_diplom = df_diplom.append({  'city':i, 'id_trading_point':j,'count_test':count_test,'count_control':count_control,\n",
      "C:\\Users\\Маргарита\\AppData\\Local\\Temp\\ipykernel_10780\\4194578938.py:25: FutureWarning: The frame.append method is deprecated and will be removed from pandas in a future version. Use pandas.concat instead.\n",
      "  df_diplom = df_diplom.append({  'city':i, 'id_trading_point':j,'count_test':count_test,'count_control':count_control,\n",
      "C:\\Users\\Маргарита\\AppData\\Local\\Temp\\ipykernel_10780\\4194578938.py:25: FutureWarning: The frame.append method is deprecated and will be removed from pandas in a future version. Use pandas.concat instead.\n",
      "  df_diplom = df_diplom.append({  'city':i, 'id_trading_point':j,'count_test':count_test,'count_control':count_control,\n",
      "C:\\Users\\Маргарита\\AppData\\Local\\Temp\\ipykernel_10780\\4194578938.py:25: FutureWarning: The frame.append method is deprecated and will be removed from pandas in a future version. Use pandas.concat instead.\n",
      "  df_diplom = df_diplom.append({  'city':i, 'id_trading_point':j,'count_test':count_test,'count_control':count_control,\n",
      "C:\\Users\\Маргарита\\AppData\\Local\\Temp\\ipykernel_10780\\4194578938.py:25: FutureWarning: The frame.append method is deprecated and will be removed from pandas in a future version. Use pandas.concat instead.\n",
      "  df_diplom = df_diplom.append({  'city':i, 'id_trading_point':j,'count_test':count_test,'count_control':count_control,\n",
      "C:\\Users\\Маргарита\\AppData\\Local\\Temp\\ipykernel_10780\\4194578938.py:25: FutureWarning: The frame.append method is deprecated and will be removed from pandas in a future version. Use pandas.concat instead.\n",
      "  df_diplom = df_diplom.append({  'city':i, 'id_trading_point':j,'count_test':count_test,'count_control':count_control,\n",
      "C:\\Users\\Маргарита\\AppData\\Local\\Temp\\ipykernel_10780\\4194578938.py:25: FutureWarning: The frame.append method is deprecated and will be removed from pandas in a future version. Use pandas.concat instead.\n",
      "  df_diplom = df_diplom.append({  'city':i, 'id_trading_point':j,'count_test':count_test,'count_control':count_control,\n",
      "C:\\Users\\Маргарита\\AppData\\Local\\Temp\\ipykernel_10780\\4194578938.py:25: FutureWarning: The frame.append method is deprecated and will be removed from pandas in a future version. Use pandas.concat instead.\n",
      "  df_diplom = df_diplom.append({  'city':i, 'id_trading_point':j,'count_test':count_test,'count_control':count_control,\n",
      "C:\\Users\\Маргарита\\AppData\\Local\\Temp\\ipykernel_10780\\4194578938.py:25: FutureWarning: The frame.append method is deprecated and will be removed from pandas in a future version. Use pandas.concat instead.\n",
      "  df_diplom = df_diplom.append({  'city':i, 'id_trading_point':j,'count_test':count_test,'count_control':count_control,\n",
      "C:\\Users\\Маргарита\\AppData\\Local\\Temp\\ipykernel_10780\\4194578938.py:25: FutureWarning: The frame.append method is deprecated and will be removed from pandas in a future version. Use pandas.concat instead.\n",
      "  df_diplom = df_diplom.append({  'city':i, 'id_trading_point':j,'count_test':count_test,'count_control':count_control,\n",
      "C:\\Users\\Маргарита\\AppData\\Local\\Temp\\ipykernel_10780\\4194578938.py:25: FutureWarning: The frame.append method is deprecated and will be removed from pandas in a future version. Use pandas.concat instead.\n",
      "  df_diplom = df_diplom.append({  'city':i, 'id_trading_point':j,'count_test':count_test,'count_control':count_control,\n"
     ]
    }
   ],
   "source": [
    "df_diplom = pd.DataFrame()\n",
    "for i in df_clear['city'].unique():\n",
    "    df_1 = df_clear[df_clear['city']==i]\n",
    "    for j in df_1['id_trading_point'].unique():\n",
    "        count_test=df_1[(df_1['id_trading_point']==j)&(df_1['nflag_test']==0)]['id_client'].count()\n",
    "        count_control=df_1[(df_1['id_trading_point']==j)&(df_1['nflag_test']==1)]['id_client'].count()\n",
    "        count_all=df_1[df_1['id_trading_point']==j]['id_client'].count()\n",
    "        percent_count=df_1[df_1['id_trading_point']==j]['id_client'].count()/df_clear['id_client'].count()\n",
    "        avg_payment_test=df_1[(df_1['id_trading_point']==j)&(df_1['nflag_test']==0)]['amt_payment'].mean()\n",
    "        avg_payment_control=df_1[(df_1['id_trading_point']==j)&(df_1['nflag_test']==1)]['amt_payment'].mean()\n",
    "        diff=avg_payment_control-avg_payment_test\n",
    "        sigma_test=df_1[(df_1['id_trading_point']==j)&(df_1['nflag_test']==0)]['amt_payment'].std()\n",
    "        sigma_control=df_1[(df_1['id_trading_point']==j)&(df_1['nflag_test']==1)]['amt_payment'].std()\n",
    "        s, p=ttest_ind(df_1[(df_1['id_trading_point']==j)&(df_1['nflag_test']==0)]['amt_payment'], df_1[(df_1['id_trading_point']==j)&(df_1['nflag_test']==1)]['amt_payment'])\n",
    "        if (diff >0)&(p<0.05):\n",
    "            flag_res=1\n",
    "        else:\n",
    "            if (diff <0)&(p<0.05):\n",
    "                flag_res=-1\n",
    "            else:\n",
    "                flag_res=0\n",
    "        \n",
    "       \n",
    "        \n",
    "        df_diplom = df_diplom.append({  'city':i, 'id_trading_point':j,'count_test':count_test,'count_control':count_control,\n",
    "                               'count_all':count_all,'percent_count':percent_count,'avg_payment_test':avg_payment_test,\n",
    "                               'avg_payment_control':avg_payment_control,'diff':diff,'sigma_test':sigma_test,\n",
    "                               'sigma_control':sigma_control,'ttest':s,'pvalue_ttest':p,'flag_res':flag_res}, ignore_index=True)"
   ]
  },
  {
   "cell_type": "code",
   "execution_count": 56,
   "id": "8c859213",
   "metadata": {},
   "outputs": [],
   "source": [
    "#выгружаем данные в Excell"
   ]
  },
  {
   "cell_type": "code",
   "execution_count": 57,
   "id": "d239441f",
   "metadata": {},
   "outputs": [
    {
     "name": "stdout",
     "output_type": "stream",
     "text": [
      "Defaulting to user installation because normal site-packages is not writeable\n",
      "Requirement already satisfied: xlsxwriter in c:\\users\\маргарита\\appdata\\roaming\\python\\python311\\site-packages (3.1.9)\n"
     ]
    }
   ],
   "source": [
    "!pip install xlsxwriter"
   ]
  },
  {
   "cell_type": "code",
   "execution_count": 58,
   "id": "e59912a3",
   "metadata": {},
   "outputs": [],
   "source": [
    "df_sheet1 = df_diplom[df_diplom['flag_res']==1]\n",
    "df_sheet2 = df_diplom[df_diplom['flag_res']==-1]\n",
    "df_sheet3 = df_diplom[df_diplom['flag_res']==0]\n",
    "\n",
    "writer = pd.ExcelWriter(\"diplom.xlsx\", engine=\"xlsxwriter\")\n",
    "\n",
    "df_sheet1.to_excel(writer, sheet_name=\"Sheet1\")\n",
    "df_sheet2.to_excel(writer, sheet_name=\"Sheet2\")\n",
    "df_sheet3.to_excel(writer, sheet_name=\"Sheet3\")\n",
    "writer.close()"
   ]
  }
 ],
 "metadata": {
  "kernelspec": {
   "display_name": "Python 3 (ipykernel)",
   "language": "python",
   "name": "python3"
  },
  "language_info": {
   "codemirror_mode": {
    "name": "ipython",
    "version": 3
   },
   "file_extension": ".py",
   "mimetype": "text/x-python",
   "name": "python",
   "nbconvert_exporter": "python",
   "pygments_lexer": "ipython3",
   "version": "3.11.4"
  }
 },
 "nbformat": 4,
 "nbformat_minor": 5
}
